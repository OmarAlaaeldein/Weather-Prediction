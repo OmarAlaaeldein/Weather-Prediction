{
 "cells": [
  {
   "cell_type": "markdown",
   "source": [
    "# Import Required Libraries"
   ],
   "metadata": {}
  },
  {
   "cell_type": "code",
   "execution_count": 1,
   "source": [
    "import pandas as pd\r\n",
    "import seaborn as sns\r\n",
    "from sklearn.ensemble import RandomForestClassifier,GradientBoostingClassifier\r\n",
    "from sklearn.model_selection import train_test_split\r\n",
    "from sklearn.preprocessing import OneHotEncoder\r\n",
    "from sklearn.metrics import accuracy_score\r\n",
    "import numpy as np\r\n",
    "from xgboost import XGBClassifier"
   ],
   "outputs": [],
   "metadata": {}
  },
  {
   "cell_type": "code",
   "execution_count": 2,
   "source": [
    "df=pd.read_csv(r\"weatherAUS.csv\",)"
   ],
   "outputs": [],
   "metadata": {}
  },
  {
   "cell_type": "markdown",
   "source": [
    "# Get rid of null(NA) target column values and use them to test our model later"
   ],
   "metadata": {}
  },
  {
   "cell_type": "code",
   "execution_count": 3,
   "source": [
    "test=df[df.RainToday.isna()|df.RainTomorrow.isna()]\r\n",
    "labels=df[~((df.RainToday.isna())|(df.RainTomorrow.isna()))].RainTomorrow\r\n",
    "train=df[~((df.RainToday.isna())|(df.RainTomorrow.isna()))].drop([\"RainTomorrow\",\"Date\"],axis=1) # Date is not relevent and will cause high runtime when OneHot encoded\r\n",
    "print(df.RainTomorrow.value_counts().plot(kind=\"bar\"))"
   ],
   "outputs": [
    {
     "output_type": "stream",
     "name": "stdout",
     "text": [
      "AxesSubplot(0.125,0.125;0.775x0.755)\n"
     ]
    },
    {
     "output_type": "display_data",
     "data": {
      "image/png": "[encoded data removed]",
      "text/plain": [
       "<Figure size 432x288 with 1 Axes>"
      ]
     },
     "metadata": {
      "needs_background": "light"
     }
    }
   ],
   "metadata": {}
  },
  {
   "cell_type": "markdown",
   "source": [
    "# Methods of Imputation"
   ],
   "metadata": {}
  },
  {
   "cell_type": "markdown",
   "source": [
    "## 1.   Imputing by average value"
   ],
   "metadata": {}
  },
  {
   "cell_type": "code",
   "execution_count": 4,
   "source": [
    "def impute_by_mean(df,cols: list):\r\n",
    "    for i in cols:\r\n",
    "        print(i)\r\n",
    "        avg=df[i].mean()\r\n",
    "        df[i].fillna(value=avg,inplace=True)"
   ],
   "outputs": [],
   "metadata": {}
  },
  {
   "cell_type": "markdown",
   "source": [
    "## 2.   Imputing by median value"
   ],
   "metadata": {}
  },
  {
   "cell_type": "code",
   "execution_count": 5,
   "source": [
    "def impute_by_median(df,cols: list):\r\n",
    "    for i in cols:\r\n",
    "        print(i)\r\n",
    "        avg=df[i].median()\r\n",
    "        df[i].fillna(value=avg,inplace=True)"
   ],
   "outputs": [],
   "metadata": {}
  },
  {
   "cell_type": "markdown",
   "source": [
    "## 3.   Imputing by mode value (can be used for both categorical and numerical columns)"
   ],
   "metadata": {}
  },
  {
   "cell_type": "code",
   "execution_count": 6,
   "source": [
    "def impute_by_mode(df,cols: list):\r\n",
    "    for i in cols:\r\n",
    "        print(i)\r\n",
    "        avg=df[i].mode()\r\n",
    "        df[i].fillna(value=avg,inplace=True)"
   ],
   "outputs": [],
   "metadata": {}
  },
  {
   "cell_type": "markdown",
   "source": [
    "# Perform Imputation and find categorical columns for OneHot encoding later(Optional)"
   ],
   "metadata": {}
  },
  {
   "cell_type": "code",
   "execution_count": 7,
   "source": [
    "d = (train.dtypes == 'float64')\r\n",
    "float_cols = list(d[d].index)\r\n",
    "s = (train.dtypes == 'object')\r\n",
    "object_cols = list(s[s].index)\r\n",
    "#impute_by_mean(train,float_cols)\r\n",
    "impute_by_median(train,float_cols)\r\n",
    "impute_by_mode(train,object_cols)\r\n",
    "X_train,X_val,y_train,y_val=train_test_split(train,labels,train_size=0.95)\r\n",
    "\r\n",
    "print(\"All categorical columns\")\r\n",
    "print(object_cols) \r\n",
    "\r\n",
    "print(X_train[float_cols].isna().sum().sum())\r\n",
    "print(X_val[float_cols].isna().sum().sum())\r\n",
    "print(y_val.isna().sum().sum())\r\n",
    "print(y_train.isna().sum().sum())\r\n",
    "# Only the columns with categorical values have NA values, so OneHot Encoding remains"
   ],
   "outputs": [
    {
     "output_type": "stream",
     "name": "stdout",
     "text": [
      "MinTemp\n",
      "MaxTemp\n",
      "Rainfall\n",
      "Evaporation\n",
      "Sunshine\n",
      "WindGustSpeed\n",
      "WindSpeed9am\n",
      "WindSpeed3pm\n",
      "Humidity9am\n",
      "Humidity3pm\n",
      "Pressure9am\n",
      "Pressure3pm\n",
      "Cloud9am\n",
      "Cloud3pm\n",
      "Temp9am\n",
      "Temp3pm\n",
      "Location\n",
      "WindGustDir\n",
      "WindDir9am\n",
      "WindDir3pm\n",
      "RainToday\n",
      "All categorical columns\n",
      "['Location', 'WindGustDir', 'WindDir9am', 'WindDir3pm', 'RainToday']\n",
      "0\n",
      "0\n",
      "0\n",
      "0\n"
     ]
    }
   ],
   "metadata": {}
  },
  {
   "cell_type": "markdown",
   "source": [
    "# OneHot encoding"
   ],
   "metadata": {}
  },
  {
   "cell_type": "code",
   "execution_count": 8,
   "source": [
    "OH_encoder = OneHotEncoder(handle_unknown='ignore', sparse=False)\r\n",
    "\r\n",
    "# OneHot encode the training and val dataset categorical columns\r\n",
    "OH_cols_train = pd.DataFrame(OH_encoder.fit_transform(X_train[object_cols]))\r\n",
    "OH_cols_val = pd.DataFrame(OH_encoder.transform(X_val[object_cols]))\r\n",
    "# OneHot encode our 1D Target feratures\r\n",
    "final_y_train= pd.DataFrame(OH_encoder.fit_transform(pd.DataFrame(y_train)))\r\n",
    "final_y_val= pd.DataFrame(OH_encoder.transform(pd.DataFrame(y_val)))\r\n",
    "# Restore lost index series to to all data\r\n",
    "final_y_train.index=y_train.index\r\n",
    "final_y_val.index=y_val.index\r\n",
    "OH_cols_train.index=X_train.index\r\n",
    "OH_cols_val.index=X_val.index\r\n",
    "# Drop old categorical columns and concat with the OneHot encoded dataframe\r\n",
    "#print(X_train.head())\r\n",
    "X_train=X_train.drop(object_cols,axis=1)\r\n",
    "#print(X_train.head())\r\n",
    "X_val=X_val.drop(object_cols,axis=1)\r\n",
    "final_X_train=X_train.join(OH_cols_train)\r\n",
    "final_X_val=X_val.join(OH_cols_val)\r\n",
    "# Assert number of entry for coresponding predictor and target are equivalent\r\n",
    "assert len(final_X_train)==len(final_y_train)\r\n",
    "assert len(final_X_val)==len(final_y_val)"
   ],
   "outputs": [],
   "metadata": {}
  },
  {
   "cell_type": "markdown",
   "source": [
    "# Convert OneHot encoded columns to Ordinal encoding(Optional)"
   ],
   "metadata": {}
  },
  {
   "cell_type": "code",
   "execution_count": 9,
   "source": [
    "def arg(l):\r\n",
    "    arr=[]\r\n",
    "    for i in l.values.tolist():\r\n",
    "        arr.append(np.argmax(i))\r\n",
    "    return np.array(arr)"
   ],
   "outputs": [],
   "metadata": {}
  },
  {
   "cell_type": "code",
   "execution_count": 10,
   "source": [
    "def arg2(l):\r\n",
    "    arr=[]\r\n",
    "    for i in l:\r\n",
    "        arr.append(np.argmax(i))\r\n",
    "    return np.array(arr)"
   ],
   "outputs": [],
   "metadata": {}
  },
  {
   "cell_type": "markdown",
   "source": [
    "# Examples of ML models"
   ],
   "metadata": {}
  },
  {
   "cell_type": "markdown",
   "source": [
    "## 1.   RandomForest with OneHot encoding"
   ],
   "metadata": {}
  },
  {
   "cell_type": "code",
   "execution_count": 11,
   "source": [
    "def score_dataset_RandomForest_OneHot(X_train, X_valid, y_train, y_valid,n):\r\n",
    "    model = RandomForestClassifier(n_estimators=n, random_state=0)\r\n",
    "    model.fit(X_train, y_train)\r\n",
    "    preds = model.predict(X_valid)\r\n",
    "    return accuracy_score(y_valid, preds)"
   ],
   "outputs": [],
   "metadata": {}
  },
  {
   "cell_type": "markdown",
   "source": [
    "## 2.   RandomForest"
   ],
   "metadata": {}
  },
  {
   "cell_type": "code",
   "execution_count": 12,
   "source": [
    "def score_dataset_RandomForest(X_train, X_valid, y_train, y_valid,n):\r\n",
    "    model = RandomForestClassifier(n_estimators=n, random_state=0)\r\n",
    "    model.fit(X_train, arg(y_train))\r\n",
    "    preds = model.predict(X_valid)\r\n",
    "    return accuracy_score(arg(y_valid), arg2(preds))"
   ],
   "outputs": [],
   "metadata": {}
  },
  {
   "cell_type": "markdown",
   "source": [
    "## 3.   XGB"
   ],
   "metadata": {}
  },
  {
   "cell_type": "code",
   "execution_count": 13,
   "source": [
    "def score_dataset_XGB(X_train, X_valid, y_train, y_valid,n):\r\n",
    "    model = XGBClassifier(n_estimators=n, random_state=0,use_label_encoder=False)\r\n",
    "    model.fit(X_train, arg(y_train))\r\n",
    "    preds = model.predict(X_valid)\r\n",
    "    print(len(preds))\r\n",
    "    return accuracy_score(arg(y_valid), arg2(preds))"
   ],
   "outputs": [],
   "metadata": {}
  },
  {
   "cell_type": "markdown",
   "source": [
    "## 4.   Gradient Boosting"
   ],
   "metadata": {}
  },
  {
   "cell_type": "code",
   "execution_count": 14,
   "source": [
    "def score_dataset_GradientBoosting(X_train, X_valid, y_train, y_valid,n):\r\n",
    "    model = GradientBoostingClassifier(n_estimators=n, random_state=0)\r\n",
    "    model.fit(X_train, y_train)\r\n",
    "    preds = model.predict(X_valid)\r\n",
    "    return accuracy_score(y_valid, preds)"
   ],
   "outputs": [],
   "metadata": {}
  },
  {
   "cell_type": "markdown",
   "source": [
    "# Train the model and evaluate"
   ],
   "metadata": {}
  },
  {
   "cell_type": "code",
   "execution_count": 15,
   "source": [
    "n=200\r\n",
    "print(\"{}% for {} estimators.\".format(round(score_dataset_RandomForest_OneHot(final_X_train,final_X_val,final_y_train,final_y_val,n),2)*100,n))"
   ],
   "outputs": [
    {
     "output_type": "stream",
     "name": "stdout",
     "text": [
      "86.0% for 200 estimators.\n"
     ]
    }
   ],
   "metadata": {}
  }
 ],
 "metadata": {
  "orig_nbformat": 4,
  "language_info": {
   "name": "python",
   "version": "3.8.8",
   "mimetype": "text/x-python",
   "codemirror_mode": {
    "name": "ipython",
    "version": 3
   },
   "pygments_lexer": "ipython3",
   "nbconvert_exporter": "python",
   "file_extension": ".py"
  },
  "kernelspec": {
   "name": "python3",
   "display_name": "Python 3.8.8 64-bit (conda)"
  },
  "interpreter": {
   "hash": "83edcf9d6691da80da87185edf1e2ec27aa1177a09f7d029aea1a0cb99dd36f7"
  }
 },
 "nbformat": 4,
 "nbformat_minor": 2
}